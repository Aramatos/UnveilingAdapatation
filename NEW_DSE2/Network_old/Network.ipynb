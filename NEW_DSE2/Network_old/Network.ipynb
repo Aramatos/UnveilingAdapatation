{
 "cells": [
  {
   "cell_type": "code",
   "execution_count": 1,
   "id": "41c9f79a-f12b-48b9-848c-06153f28aa31",
   "metadata": {},
   "outputs": [],
   "source": [
    "from brian2 import *\n",
    "from DynapSE import DynapSE\n",
    "from Spike_G import *\n",
    "import numpy as np\n",
    "import matplotlib as mpl\n",
    "import matplotlib.pyplot as plt\n",
    "\n",
    "# Display plots inside Jupyter cell\n",
    "%matplotlib inline \n",
    "# Set the dots-per-inch (resolution) of the images\n",
    "mpl.rcParams['figure.dpi'] = 90\n",
    "from equations.dynapse_eq import *\n",
    "from parameters.dynapse_param import *\n",
    "\n",
    "# C++ code generation for faster spiking network simulation\n",
    "set_device('cpp_standalone')\n",
    "# Ignore Brian2 base warnings/dynapse-simulator-New-Parameters/\n",
    "\n",
    "BrianLogger.suppress_name('base')\n",
    "# The clock of Brian2 simulation for numerically solve ODEs\n",
    "defaultclock.dt = 20 * us"
   ]
  },
  {
   "cell_type": "markdown",
   "id": "7106862d",
   "metadata": {},
   "source": [
    "Neurons:\n",
    "\n",
    "1. Excitory neurons make up about 80% of the total neuronal population.\n",
    "2. Inhibitory neurons make up about 20% of the total neuronal population. \n",
    "3. PV neurons (58% inhibitory) are fast-spiking.\n",
    "4. SST neurons (42% inhibitory)  are low-threshold spiking. \n",
    "5. PC neurons (excitatory) are regular spiking.\n",
    "\n",
    "Synaptic Connectivities: \n",
    "\n",
    "6. PC are highly interconnected (25% to 36% of connectivity probabilities). \n",
    "7. SST and PV cells connect to at least half, or even all excitatory cells of the local circuit (> 50% ).\n",
    "8. Strong inhibition between SST and PC. \n",
    "9. PV has recurrent connections. \n",
    "10. PC has has Shortterm depression to PV and Short-Term Facilitation to SST\n",
    "\n",
    "Thalamacortical connections: \n",
    "\n",
    "10. Strong connections to PV. (Short-term depression)\n",
    "11. weak connections to SST. (Short-term facilitation)\n",
    "12. Constant strength to PC. \n",
    "\n",
    "\n",
    "\n"
   ]
  },
  {
   "cell_type": "code",
   "execution_count": 5,
   "id": "3cc384aa",
   "metadata": {},
   "outputs": [],
   "source": [
    "def Network_sim(freq,duration):      \n",
    "    # to start a new build to run multiple full simulations\n",
    "    device.reinit()\n",
    "    device.activate()\n",
    "    # need to reset the defaultclock after activate\n",
    "    defaultclock.dt = 20 * us\n",
    "\n",
    "    # Create a Brian2 network and chip instance using that monitors Dynap-SE1 resources.\n",
    "    network = Network()\n",
    "    chip = DynapSE(network)\n",
    "\n",
    "\n",
    "    # ///////////////////////////// Populations ////////////////////////////////////////////////\n",
    "    # number neurons\n",
    "    n = 10\n",
    "    exc = round(n * 0.8)\n",
    "    inh = round(n * 0.2)\n",
    "    n_PC = exc \n",
    "    n_SST = round(inh * 0.42)\n",
    "    n_PV = round(inh * 0.58)\n",
    "\n",
    "    # define the populations of neurons\n",
    "    PC = chip.get_neurons(n_PC, 'Core_1')\n",
    "    SST = chip.get_neurons(n_SST, 'Core_2')\n",
    "    PV = chip.get_neurons(n_PV, 'Core_3')\n",
    "\n",
    "    \n",
    "    # ///////////////////////////// Freqiiecy Input to PC ////////////////////////////////////////////////\n",
    "    spikegen = SpikeGen('regular',0,1,1,freq,1,'SpikeGenerator')\n",
    "\n",
    "\n",
    "\n",
    "    # ///////////////////////////// CONNECTIONS ////////////////////////////////////////////////\n",
    "\n",
    "    # Synapses, Thalamacortical Connections\n",
    "    syn_inpPC = chip.add_connection(spikegen, PC, synapse_type='AMPA')\n",
    "    chip.connect(syn_inpPC,True)\n",
    "    syn_inpPV = chip.add_connection(spikegen, PV, synapse_type='AMPA')\n",
    "    chip.connect(syn_inpPV,True)\n",
    "    syn_inpSST = chip.add_connection(spikegen, SST, synapse_type='AMPA')\n",
    "    chip.connect(syn_inpSST,True)\n",
    "\n",
    "    # set Thalamacortical weights\n",
    "    syn_inpPC.weight = 300\n",
    "    syn_inpPV.weight = 200\n",
    "    syn_inpSST.weight = 600\n",
    "\n",
    "    # Synapses, Local Connections\n",
    "    syn_PC = chip.add_connection(PC, PC, synapse_type='NMDA')\n",
    "    syn_PC.connect(p=0.30)\n",
    "    syn_PV = chip.add_connection(PV, PV, synapse_type='GABA_B')\n",
    "    chip.connect(syn_PV,True)\n",
    "\n",
    "    syn_SSTPC = chip.add_connection(SST, PC, synapse_type='GABA_B')\n",
    "    syn_SSTPC.connect(p=0.8)\n",
    "    syn_PVPC = chip.add_connection(PV, PC, synapse_type='GABA_B')\n",
    "    syn_PVPC.connect(p=0.8)\n",
    "\n",
    "    syn_PCSST = chip.add_connection(PV, SST, synapse_type='NMDA')\n",
    "    chip.connect(syn_PCSST,True)\n",
    "    syn_PCPV = chip.add_connection(PC, PV, synapse_type='NMDA')\n",
    "    chip.connect(syn_PCPV,True)\n",
    "\n",
    "    syn_PVSST = chip.add_connection(PV, SST, synapse_type='GABA_B')\n",
    "    chip.connect(syn_PVSST,True)\n",
    "    syn_SSTPV = chip.add_connection(SST, PV, synapse_type='GABA_B')\n",
    "    chip.connect(syn_SSTPV,True)\n",
    "\n",
    "    # set Local connection weights\n",
    "    syn_PC.weight = 300\n",
    "    syn_PV.weight = 300\n",
    "    syn_SSTPC.weight = 600\n",
    "    syn_PVPC.weight = 300\n",
    "    syn_PCSST.weight = 600\n",
    "    syn_PCPV.weight = 100\n",
    "    syn_PVSST.weight = 100\n",
    "    syn_SSTPV.weight = 100\n",
    "\n",
    "    # apply conditions\n",
    "    \n",
    "\n",
    "\n",
    "    # set the params\n",
    "\n",
    "    # Monitors\n",
    "    #mon_neuron_input  = SpikeMonitor(spikegen, name='mon_neuron_input')\n",
    "    SST_output = SpikeMonitor(SST, name='SST_output')\n",
    "    #mon_adapt_state  = StateMonitor(SST,  'Iahp', record=True)\n",
    "    #mon_mem_state  = StateMonitor(SST,  'Imem', record=True)\n",
    "\n",
    "\n",
    "    network.add([spikegen,PC,SST,PV,syn_inpPC,syn_inpPV,syn_inpSST,syn_PC,syn_PV,syn_SSTPC,syn_PVPC,syn_PCSST,syn_PCPV,syn_PVSST,syn_SSTPV,SST_output])\n",
    "\n",
    "    # Simulation\n",
    "    network.run(duration * 1000 * ms)\n",
    "\n",
    "\n",
    "    print(SST_output.t)\n",
    "\n",
    "    return SST_output"
   ]
  },
  {
   "cell_type": "code",
   "execution_count": 6,
   "id": "0b6d4915",
   "metadata": {},
   "outputs": [],
   "source": [
    "def remove_last_element(arr):\n",
    "    return arr[np.arange(arr.size - 1)]"
   ]
  },
  {
   "cell_type": "markdown",
   "id": "b1d7ae90",
   "metadata": {},
   "source": []
  },
  {
   "cell_type": "code",
   "execution_count": 7,
   "id": "89a25b73",
   "metadata": {},
   "outputs": [
    {
     "name": "stdout",
     "output_type": "stream",
     "text": [
      "8 neurons are allocated from Core_1.\n",
      "1 neurons are allocated from Core_2.\n",
      "1 neurons are allocated from Core_3.\n"
     ]
    },
    {
     "name": "stderr",
     "output_type": "stream",
     "text": [
      "cc1plus: warning: command line option ‘-Wstrict-prototypes’ is valid for C/ObjC but not for C++\n",
      "cc1plus: warning: command line option ‘-Wstrict-prototypes’ is valid for C/ObjC but not for C++\n",
      "cc1plus: warning: command line option ‘-Wstrict-prototypes’ is valid for C/ObjC but not for C++\n",
      "cc1plus: warning: command line option ‘-Wstrict-prototypes’ is valid for C/ObjC but not for C++\n",
      "cc1plus: warning: command line option ‘-Wstrict-prototypes’ is valid for C/ObjC but not for C++\n",
      "cc1plus: warning: command line option ‘-Wstrict-prototypes’ is valid for C/ObjC but not for C++\n",
      "make.deps:636: *** missing separator.  Stop.\n"
     ]
    },
    {
     "ename": "RuntimeError",
     "evalue": "Project compilation failed (error code: 512). Consider running with \"clean=True\" to force a complete rebuild.",
     "output_type": "error",
     "traceback": [
      "\u001b[0;31m---------------------------------------------------------------------------\u001b[0m",
      "\u001b[0;31mRuntimeError\u001b[0m                              Traceback (most recent call last)",
      "\u001b[0;32m/tmp/ipykernel_99234/3158981941.py\u001b[0m in \u001b[0;36m<module>\u001b[0;34m\u001b[0m\n\u001b[1;32m      7\u001b[0m \u001b[0;31m# Connect a single spike generator to a single DPI neuron\u001b[0m\u001b[0;34m\u001b[0m\u001b[0;34m\u001b[0m\u001b[0;34m\u001b[0m\u001b[0m\n\u001b[1;32m      8\u001b[0m \u001b[0;32mfor\u001b[0m \u001b[0mi\u001b[0m \u001b[0;32min\u001b[0m \u001b[0mfreq_list\u001b[0m\u001b[0;34m:\u001b[0m\u001b[0;34m\u001b[0m\u001b[0;34m\u001b[0m\u001b[0m\n\u001b[0;32m----> 9\u001b[0;31m     \u001b[0moutput_rates\u001b[0m\u001b[0;34m.\u001b[0m\u001b[0mappend\u001b[0m\u001b[0;34m(\u001b[0m\u001b[0mNetwork_sim\u001b[0m\u001b[0;34m(\u001b[0m\u001b[0mi\u001b[0m\u001b[0;34m,\u001b[0m\u001b[0mduration\u001b[0m\u001b[0;34m)\u001b[0m\u001b[0;34m)\u001b[0m\u001b[0;34m\u001b[0m\u001b[0;34m\u001b[0m\u001b[0m\n\u001b[0m\u001b[1;32m     10\u001b[0m \u001b[0;34m\u001b[0m\u001b[0m\n",
      "\u001b[0;32m/tmp/ipykernel_99234/3221896556.py\u001b[0m in \u001b[0;36mNetwork_sim\u001b[0;34m(freq, duration)\u001b[0m\n\u001b[1;32m     93\u001b[0m \u001b[0;34m\u001b[0m\u001b[0m\n\u001b[1;32m     94\u001b[0m     \u001b[0;31m# Simulation\u001b[0m\u001b[0;34m\u001b[0m\u001b[0;34m\u001b[0m\u001b[0;34m\u001b[0m\u001b[0m\n\u001b[0;32m---> 95\u001b[0;31m     \u001b[0mnetwork\u001b[0m\u001b[0;34m.\u001b[0m\u001b[0mrun\u001b[0m\u001b[0;34m(\u001b[0m\u001b[0mduration\u001b[0m \u001b[0;34m*\u001b[0m \u001b[0;36m1000\u001b[0m \u001b[0;34m*\u001b[0m \u001b[0mms\u001b[0m\u001b[0;34m)\u001b[0m\u001b[0;34m\u001b[0m\u001b[0;34m\u001b[0m\u001b[0m\n\u001b[0m\u001b[1;32m     96\u001b[0m \u001b[0;34m\u001b[0m\u001b[0m\n\u001b[1;32m     97\u001b[0m \u001b[0;34m\u001b[0m\u001b[0m\n",
      "\u001b[0;32m~/miniconda3/envs/dynapse_sim/lib/python3.8/site-packages/brian2/core/base.py\u001b[0m in \u001b[0;36mdevice_override_decorated_function\u001b[0;34m(*args, **kwds)\u001b[0m\n\u001b[1;32m    289\u001b[0m             \u001b[0mcurdev\u001b[0m \u001b[0;34m=\u001b[0m \u001b[0mget_device\u001b[0m\u001b[0;34m(\u001b[0m\u001b[0;34m)\u001b[0m\u001b[0;34m\u001b[0m\u001b[0;34m\u001b[0m\u001b[0m\n\u001b[1;32m    290\u001b[0m             \u001b[0;32mif\u001b[0m \u001b[0mhasattr\u001b[0m\u001b[0;34m(\u001b[0m\u001b[0mcurdev\u001b[0m\u001b[0;34m,\u001b[0m \u001b[0mname\u001b[0m\u001b[0;34m)\u001b[0m\u001b[0;34m:\u001b[0m\u001b[0;34m\u001b[0m\u001b[0;34m\u001b[0m\u001b[0m\n\u001b[0;32m--> 291\u001b[0;31m                 \u001b[0;32mreturn\u001b[0m \u001b[0mgetattr\u001b[0m\u001b[0;34m(\u001b[0m\u001b[0mcurdev\u001b[0m\u001b[0;34m,\u001b[0m \u001b[0mname\u001b[0m\u001b[0;34m)\u001b[0m\u001b[0;34m(\u001b[0m\u001b[0;34m*\u001b[0m\u001b[0margs\u001b[0m\u001b[0;34m,\u001b[0m \u001b[0;34m**\u001b[0m\u001b[0mkwds\u001b[0m\u001b[0;34m)\u001b[0m\u001b[0;34m\u001b[0m\u001b[0;34m\u001b[0m\u001b[0m\n\u001b[0m\u001b[1;32m    292\u001b[0m             \u001b[0;32melse\u001b[0m\u001b[0;34m:\u001b[0m\u001b[0;34m\u001b[0m\u001b[0;34m\u001b[0m\u001b[0m\n\u001b[1;32m    293\u001b[0m                 \u001b[0;32mreturn\u001b[0m \u001b[0mfunc\u001b[0m\u001b[0;34m(\u001b[0m\u001b[0;34m*\u001b[0m\u001b[0margs\u001b[0m\u001b[0;34m,\u001b[0m \u001b[0;34m**\u001b[0m\u001b[0mkwds\u001b[0m\u001b[0;34m)\u001b[0m\u001b[0;34m\u001b[0m\u001b[0;34m\u001b[0m\u001b[0m\n",
      "\u001b[0;32m~/miniconda3/envs/dynapse_sim/lib/python3.8/site-packages/brian2/devices/cpp_standalone/device.py\u001b[0m in \u001b[0;36mnetwork_run\u001b[0;34m(self, net, duration, report, report_period, namespace, profile, level, **kwds)\u001b[0m\n\u001b[1;32m   1500\u001b[0m                                    \u001b[0;34m\"device.build call to use multiple run \"\u001b[0m\u001b[0;34m\u001b[0m\u001b[0;34m\u001b[0m\u001b[0m\n\u001b[1;32m   1501\u001b[0m                                    \"statements with this device.\")\n\u001b[0;32m-> 1502\u001b[0;31m             \u001b[0mself\u001b[0m\u001b[0;34m.\u001b[0m\u001b[0mbuild\u001b[0m\u001b[0;34m(\u001b[0m\u001b[0mdirect_call\u001b[0m\u001b[0;34m=\u001b[0m\u001b[0;32mFalse\u001b[0m\u001b[0;34m,\u001b[0m \u001b[0;34m**\u001b[0m\u001b[0mself\u001b[0m\u001b[0;34m.\u001b[0m\u001b[0mbuild_options\u001b[0m\u001b[0;34m)\u001b[0m\u001b[0;34m\u001b[0m\u001b[0;34m\u001b[0m\u001b[0m\n\u001b[0m\u001b[1;32m   1503\u001b[0m \u001b[0;34m\u001b[0m\u001b[0m\n\u001b[1;32m   1504\u001b[0m     \u001b[0;32mdef\u001b[0m \u001b[0mnetwork_store\u001b[0m\u001b[0;34m(\u001b[0m\u001b[0mself\u001b[0m\u001b[0;34m,\u001b[0m \u001b[0mnet\u001b[0m\u001b[0;34m,\u001b[0m \u001b[0;34m*\u001b[0m\u001b[0margs\u001b[0m\u001b[0;34m,\u001b[0m \u001b[0;34m**\u001b[0m\u001b[0mkwds\u001b[0m\u001b[0;34m)\u001b[0m\u001b[0;34m:\u001b[0m\u001b[0;34m\u001b[0m\u001b[0;34m\u001b[0m\u001b[0m\n",
      "\u001b[0;32m~/miniconda3/envs/dynapse_sim/lib/python3.8/site-packages/brian2/devices/cpp_standalone/device.py\u001b[0m in \u001b[0;36mbuild\u001b[0;34m(self, directory, compile, run, debug, clean, with_output, additional_source_files, run_args, direct_call, **kwds)\u001b[0m\n\u001b[1;32m   1242\u001b[0m \u001b[0;34m\u001b[0m\u001b[0m\n\u001b[1;32m   1243\u001b[0m         \u001b[0;32mif\u001b[0m \u001b[0mcompile\u001b[0m\u001b[0;34m:\u001b[0m\u001b[0;34m\u001b[0m\u001b[0;34m\u001b[0m\u001b[0m\n\u001b[0;32m-> 1244\u001b[0;31m             \u001b[0mself\u001b[0m\u001b[0;34m.\u001b[0m\u001b[0mcompile_source\u001b[0m\u001b[0;34m(\u001b[0m\u001b[0mdirectory\u001b[0m\u001b[0;34m,\u001b[0m \u001b[0mcompiler\u001b[0m\u001b[0;34m,\u001b[0m \u001b[0mdebug\u001b[0m\u001b[0;34m,\u001b[0m \u001b[0mclean\u001b[0m\u001b[0;34m)\u001b[0m\u001b[0;34m\u001b[0m\u001b[0;34m\u001b[0m\u001b[0m\n\u001b[0m\u001b[1;32m   1245\u001b[0m             \u001b[0;32mif\u001b[0m \u001b[0mrun\u001b[0m\u001b[0;34m:\u001b[0m\u001b[0;34m\u001b[0m\u001b[0;34m\u001b[0m\u001b[0m\n\u001b[1;32m   1246\u001b[0m                 \u001b[0mself\u001b[0m\u001b[0;34m.\u001b[0m\u001b[0mrun\u001b[0m\u001b[0;34m(\u001b[0m\u001b[0mdirectory\u001b[0m\u001b[0;34m,\u001b[0m \u001b[0mwith_output\u001b[0m\u001b[0;34m,\u001b[0m \u001b[0mrun_args\u001b[0m\u001b[0;34m)\u001b[0m\u001b[0;34m\u001b[0m\u001b[0;34m\u001b[0m\u001b[0m\n",
      "\u001b[0;32m~/miniconda3/envs/dynapse_sim/lib/python3.8/site-packages/brian2/devices/cpp_standalone/device.py\u001b[0m in \u001b[0;36mcompile_source\u001b[0;34m(self, directory, compiler, debug, clean)\u001b[0m\n\u001b[1;32m    987\u001b[0m                                              \u001b[0;34m'\"clean=True\" to force a complete '\u001b[0m\u001b[0;34m\u001b[0m\u001b[0;34m\u001b[0m\u001b[0m\n\u001b[1;32m    988\u001b[0m                                               'rebuild.')\n\u001b[0;32m--> 989\u001b[0;31m                         \u001b[0;32mraise\u001b[0m \u001b[0mRuntimeError\u001b[0m\u001b[0;34m(\u001b[0m\u001b[0merror_message\u001b[0m\u001b[0;34m)\u001b[0m\u001b[0;34m\u001b[0m\u001b[0;34m\u001b[0m\u001b[0m\n\u001b[0m\u001b[1;32m    990\u001b[0m \u001b[0;34m\u001b[0m\u001b[0m\n\u001b[1;32m    991\u001b[0m     \u001b[0;32mdef\u001b[0m \u001b[0mseed\u001b[0m\u001b[0;34m(\u001b[0m\u001b[0mself\u001b[0m\u001b[0;34m,\u001b[0m \u001b[0mseed\u001b[0m\u001b[0;34m=\u001b[0m\u001b[0;32mNone\u001b[0m\u001b[0;34m)\u001b[0m\u001b[0;34m:\u001b[0m\u001b[0;34m\u001b[0m\u001b[0;34m\u001b[0m\u001b[0m\n",
      "\u001b[0;31mRuntimeError\u001b[0m: Project compilation failed (error code: 512). Consider running with \"clean=True\" to force a complete rebuild."
     ]
    }
   ],
   "source": [
    "\n",
    "freq_list=[200,300]*Hz\n",
    "duration=1\n",
    "\n",
    "\n",
    "output_rates=[]\n",
    "\n",
    "# Connect a single spike generator to a single DPI neuron \n",
    "for i in freq_list:\n",
    "    output_rates.append(Network_sim(i,duration))\n",
    "    \n"
   ]
  },
  {
   "cell_type": "code",
   "execution_count": 13,
   "id": "ea19351a-e840-4c5e-b699-9b1954346e28",
   "metadata": {},
   "outputs": [
    {
     "data": {
      "text/plain": [
       "[<matplotlib.lines.Line2D at 0x7fa5df90ad30>]"
      ]
     },
     "execution_count": 13,
     "metadata": {},
     "output_type": "execute_result"
    },
    {
     "data": {
      "image/png": "[encoded data removed]",
      "text/plain": [
       "<Figure size 540x360 with 1 Axes>"
      ]
     },
     "metadata": {
      "needs_background": "light"
     },
     "output_type": "display_data"
    }
   ],
   "source": [
    "plot(output_rates[1].t,output_rates[1].i,'k')"
   ]
  },
  {
   "cell_type": "code",
   "execution_count": 1,
   "id": "1655daf3-3e07-43ec-b55d-e2364b45b5d9",
   "metadata": {},
   "outputs": [
    {
     "ename": "NameError",
     "evalue": "name 'random' is not defined",
     "output_type": "error",
     "traceback": [
      "\u001b[0;31m---------------------------------------------------------------------------\u001b[0m",
      "\u001b[0;31mNameError\u001b[0m                                 Traceback (most recent call last)",
      "\u001b[0;32m/tmp/ipykernel_21066/3460909352.py\u001b[0m in \u001b[0;36m<module>\u001b[0;34m\u001b[0m\n\u001b[1;32m     20\u001b[0m \u001b[0;34m\u001b[0m\u001b[0m\n\u001b[1;32m     21\u001b[0m     \u001b[0;32mwhile\u001b[0m \u001b[0mcondition_satisfied\u001b[0m \u001b[0;34m==\u001b[0m \u001b[0;32mFalse\u001b[0m\u001b[0;34m:\u001b[0m\u001b[0;34m\u001b[0m\u001b[0;34m\u001b[0m\u001b[0m\n\u001b[0;32m---> 22\u001b[0;31m         \u001b[0mlocal_x\u001b[0m \u001b[0;34m=\u001b[0m \u001b[0mrandom\u001b[0m\u001b[0;34m.\u001b[0m\u001b[0msample\u001b[0m\u001b[0;34m(\u001b[0m\u001b[0mPC_Itau\u001b[0m\u001b[0;34m,\u001b[0m \u001b[0;36m3\u001b[0m\u001b[0;34m)\u001b[0m\u001b[0;34m\u001b[0m\u001b[0;34m\u001b[0m\u001b[0m\n\u001b[0m\u001b[1;32m     23\u001b[0m \u001b[0;34m\u001b[0m\u001b[0m\n\u001b[1;32m     24\u001b[0m         \u001b[0;31m## Verify that your random sample satisfies your conditions. Dummy example:\u001b[0m\u001b[0;34m\u001b[0m\u001b[0;34m\u001b[0m\u001b[0;34m\u001b[0m\u001b[0m\n",
      "\u001b[0;31mNameError\u001b[0m: name 'random' is not defined"
     ]
    }
   ],
   "source": [
    "## Declare possible values taken by your variables e..g\n",
    "\n",
    "PC_Itau= [1,2,3,4]\n",
    "SST_Itau = [10,20,30,40]\n",
    "SST_Itauahp = [10,20,30,40]\n",
    "SST_I = [10,20,30,40]\n",
    "\n",
    "results_dictionary = {} ## Initialize our dictionary\n",
    "\n",
    "parameters_memory = []\n",
    "\n",
    "condition_satisfied = False\n",
    "\n",
    "\n",
    "n_iter = 1000 ## How many run throughs you'd like to do.\n",
    "\n",
    "for i in range(n_iter):\n",
    "\n",
    "    results_dictionary[iter] = {} ## Initialize the second level of our dictionary\n",
    "\n",
    "    while condition_satisfied == False: \n",
    "        local_x = random.sample(PC_Itau, 3)\n",
    "\n",
    "        ## Verify that your random sample satisfies your conditions. Dummy example:\n",
    "        if local_x > 2*local_y and [local_x, local_y] not in parameters_memory: \n",
    "            ## Condition is satisfied and our parameter sample is new\n",
    "            condition_satisfied = True\n",
    "\n",
    "    ## Once we exited our while loop (we have a combination of parameters that satisfy our \n",
    "    #     constraints and are never seen before), we execute whatever thing we want to execute \n",
    "\n",
    "    parameters_memory.append([local_x, local_y])\n",
    "\n",
    "    performance = do_something_cool(local_x, local_y)\n",
    "\n",
    "    PV_conf = {\"Itau\": 50 * pA}\n",
    "\n",
    "    SST_conf = {\"Itauahp\": 0.03 * pA,            \n",
    "                \"Ithahp\": 0.06 * pA,\n",
    "                \"Ispkthr\": 0.5 * nA # low threhsold spiking\n",
    "            }\n",
    "\n",
    "    Network_sim(duration,SST_conf,PV_conf)\n",
    "\n",
    "    \n",
    "    ## Save perf for our parameters\n",
    "    results_dictionary[iter]['X'] = local_x\n",
    "    results_dictionary[iter]['Y'] = local_y\n",
    "    results_dictionary[iter]['Performance'] = performance\n",
    "\n",
    "    condition_satisfied = False # set it back to false so we check at the next iteration\n",
    "\n",
    "\n",
    "\n",
    "## Save dictionary with results\n",
    "filename_ = 'noise_is_a_feature.csv'\n",
    "df = pd.DataFrame(results_dictionary)\n",
    "df.to_csv(filename_, index=False, header=None)"
   ]
  },
  {
   "cell_type": "code",
   "execution_count": null,
   "id": "cad115bf",
   "metadata": {},
   "outputs": [],
   "source": []
  }
 ],
 "metadata": {
  "kernelspec": {
   "display_name": "Python 3 (ipykernel)",
   "language": "python",
   "name": "python3"
  },
  "language_info": {
   "codemirror_mode": {
    "name": "ipython",
    "version": 3
   },
   "file_extension": ".py",
   "mimetype": "text/x-python",
   "name": "python",
   "nbconvert_exporter": "python",
   "pygments_lexer": "ipython3",
   "version": "3.8.12"
  }
 },
 "nbformat": 4,
 "nbformat_minor": 5
}
