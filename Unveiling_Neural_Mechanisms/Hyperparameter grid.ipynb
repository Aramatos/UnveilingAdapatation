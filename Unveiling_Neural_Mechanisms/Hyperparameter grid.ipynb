{
 "cells": [
  {
   "cell_type": "code",
   "execution_count": null,
   "metadata": {},
   "outputs": [],
   "source": [
    "def create_hyperparams_grid(X,y):\n",
    "    graph_x = []\n",
    "    graph_y = []\n",
    "    graph_z = []\n",
    "    for alpha_value in np.arange(-5.0,2.0,0.7):\n",
    "        alpha_value = pow(10,alpha_value)\n",
    "        graph_x_row = []\n",
    "        graph_y_row = []\n",
    "        graph_z_row = []\n",
    "        for gamma_value in np.arange(0.0,20,2):\n",
    "            hyperparams = (alpha_value,gamma_value)\n",
    "            rmse = KRR_function(hyperparams,X,y)\n",
    "            graph_x_row.append(alpha_value)\n",
    "            graph_y_row.append(gamma_value)\n",
    "            graph_z_row.append(rmse)\n",
    "        graph_x.append(graph_x_row)\n",
    "        graph_y.append(graph_y_row)\n",
    "        graph_z.append(graph_z_row)\n",
    "        print('')\n",
    "    graph_x=np.array(graph_x)\n",
    "    graph_y=np.array(graph_y)\n",
    "    graph_z=np.array(graph_z)\n",
    "    min_z = np.min(graph_z)\n",
    "    pos_min_z = np.argwhere(graph_z == np.min(graph_z))[0]\n",
    "    print('Minimum RMSE: %.4f' %(min_z))\n",
    "    print('Optimum alpha: %f' %(graph_x[pos_min_z[0],pos_min_z[1]]))\n",
    "    print('Optimum gamma: %f' %(graph_y[pos_min_z[0],pos_min_z[1]]))\n",
    "    return graph_x,graph_y,graph_z"
   ]
  }
 ],
 "metadata": {
  "language_info": {
   "name": "python"
  },
  "orig_nbformat": 4
 },
 "nbformat": 4,
 "nbformat_minor": 2
}
