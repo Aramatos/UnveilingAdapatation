{
 "cells": [
  {
   "cell_type": "code",
   "execution_count": 4,
   "metadata": {},
   "outputs": [],
   "source": [
    "import os; \n",
    "os.sys.path.append(os.path.dirname(os.path.abspath('..')))"
   ]
  },
  {
   "cell_type": "code",
   "execution_count": 9,
   "metadata": {},
   "outputs": [],
   "source": [
    "from brian2 import *\n",
    "from DynapSE import DynapSE\n",
    "from equations.dynapse_eq import *\n",
    "from parameters.dynapse_param import *\n",
    "import example_experiment\n",
    "\n",
    "import numpy as np\n",
    "import pandas as pd\n",
    "import statistics\n",
    "import itertools\n",
    "# import multiprocessing as mp\n",
    "import pathos as pa\n",
    "from multiprocessing.pool import ThreadPool as Pool\n",
    "import matplotlib as mpl\n",
    "import matplotlib.pyplot as plt\n",
    "\n"
   ]
  },
  {
   "cell_type": "code",
   "execution_count": 10,
   "metadata": {},
   "outputs": [],
   "source": [
    "now = datetime.datetime.now() # current date and time\n",
    "date_time = now.strftime(\"%m_%d_%Y_%H_%M_%S\")\n",
    "results = []\n",
    "df_results = pd.DataFrame()"
   ]
  },
  {
   "cell_type": "code",
   "execution_count": 11,
   "metadata": {},
   "outputs": [],
   "source": [
    "exp_durations_range = [100*ms]"
   ]
  },
  {
   "cell_type": "code",
   "execution_count": 19,
   "metadata": {},
   "outputs": [],
   "source": [
    "def main():\n",
    "\tgrid = dict(\n",
    "\t\t_exp_duration_range_ = exp_durations_range,\n",
    "\t)\n",
    "\tconfigs = []\n",
    "\n",
    "\tfor values in itertools.product(*grid.values()): \n",
    "\t\t\n",
    "\t\ttemporary_dict = dict(zip(grid.keys(), values))\n",
    "\n",
    "\t\tconfig = dict(\n",
    "\t\t\t_exp_duration_ = temporary_dict['_exp_duration_range_'],\n",
    "\t\t)\n",
    "\t\tconfigs.append(config)\n",
    "\n",
    "\tdf_configs = pd.DataFrame(configs)\n",
    "\tprint(df_configs)\n",
    "\n",
    "\tpool = Pool(processes = (pa.helpers.cpu_count() - 1))\n",
    "\tresults = pool.map(example_experiment.run_experiment, configs)\n",
    "\tstore_time = datetime.datetime.now()\n",
    "\tstore_date_time = store_time.strftime(\"%m_%d_%Y_%H_%M_%S\")\n",
    "\tdf_results = pd.DataFrame(results)\n",
    "\n",
    "\tpath = os.path.abspath('') + '/../../Neuromorphic Intelligence/Unveiling_Neural_Mechanisms/Experiment__' + date_time + '__' + store_date_time + '__result.h5'\n",
    "\tprint(path)\n",
    "\tdf_results.to_hdf(\n",
    "\t\tpath,\n",
    "\t\tkey=\"Example\"\n",
    "\t)\n",
    "\t\n",
    "\treturn results, df_results"
   ]
  },
  {
   "cell_type": "code",
   "execution_count": 20,
   "metadata": {},
   "outputs": [
    {
     "name": "stdout",
     "output_type": "stream",
     "text": [
      "  _exp_duration_\n",
      "0        100. ms\n",
      "Process 52812 launched, at 04_25_2022_17_02_14\n",
      "1 neurons are allocated from Core_1.\n",
      "/home/hector/Documents/Neuromorphic Intelligence/Unveiling_Neural_Mechanisms/../../Neuromorphic Intelligence/Unveiling_Neural_Mechanisms/Experiment__04_25_2022_16_58_10__04_25_2022_17_02_18__result.h5\n"
     ]
    }
   ],
   "source": [
    "if __name__ == '__main__':\n",
    "    train_results, df_train_results = main()"
   ]
  },
  {
   "cell_type": "code",
   "execution_count": null,
   "metadata": {},
   "outputs": [],
   "source": []
  }
 ],
 "metadata": {
  "interpreter": {
   "hash": "aee8b7b246df8f9039afb4144a1f6fd8d2ca17a180786b69acc140d282b71a49"
  },
  "kernelspec": {
   "display_name": "Python 3.9.7 64-bit",
   "language": "python",
   "name": "python3"
  },
  "language_info": {
   "codemirror_mode": {
    "name": "ipython",
    "version": 3
   },
   "file_extension": ".py",
   "mimetype": "text/x-python",
   "name": "python",
   "nbconvert_exporter": "python",
   "pygments_lexer": "ipython3",
   "version": "3.8.12"
  },
  "orig_nbformat": 4
 },
 "nbformat": 4,
 "nbformat_minor": 2
}
